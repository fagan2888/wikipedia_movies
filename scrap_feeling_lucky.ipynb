{
 "cells": [
  {
   "cell_type": "markdown",
   "metadata": {},
   "source": [
    "This code can run using docker or the drivers.\n",
    "\n",
    "## Modify my_path and _driver_path_ in order to point correctly to the driver, if the driver is in the docker use _docker_=True if not use False\n",
    "\n",
    "### To launch the docker use:\n",
    "docker run -d -p 4444:4444 --shm-size 2g --name selenium_firefox selenium/standalone-firefox\n",
    "\n",
    "### The driver path for docker must point to the host port specified when launching it. In the example is 4444, in general host_port:docker_port\n",
    "\n",
    "### For additional dockers (chrome or grids): https://github.com/SeleniumHQ/docker-selenium\n",
    "### Chrome docker is selenium/standalone-chrome, remember to change the driver in the function get_movie"
   ]
  },
  {
   "cell_type": "code",
   "execution_count": 5,
   "metadata": {},
   "outputs": [],
   "source": [
    "### Where to look or save the downloaded data\n",
    "mypath = \"/home/godzilla/data/wikipedia_movies/\"\n",
    "\n",
    "#### Where to look the drivers\n",
    "# DOCKER PATH\n",
    "_driver_path_ = \"http://127.0.0.1:4444/wd/hub\"\n",
    "# Local Path\n",
    "#_driver_path_ = '/home/godzilla/data/scraping_excercise/drivers/geckodriver'\n",
    "\n",
    "### Docker\n",
    "_docker_ = True"
   ]
  },
  {
   "cell_type": "code",
   "execution_count": 1,
   "metadata": {},
   "outputs": [
    {
     "name": "stdout",
     "output_type": "stream",
     "text": [
      "Requirement already satisfied: selenium in /home/godzilla/anaconda3/lib/python3.7/site-packages (3.141.0)\r\n",
      "Requirement already satisfied: urllib3 in /home/godzilla/anaconda3/lib/python3.7/site-packages (from selenium) (1.25.7)\r\n"
     ]
    }
   ],
   "source": [
    "'''\n",
    "Installing selenium library if it is not instaled in jupyter notebook\n",
    "'''\n",
    "#import sys\n",
    "#!{sys.executable} -m pip install selenium"
   ]
  },
  {
   "cell_type": "code",
   "execution_count": 6,
   "metadata": {},
   "outputs": [],
   "source": [
    "from selenium import webdriver\n",
    "from selenium.webdriver.common.desired_capabilities import DesiredCapabilities\n",
    "from selenium.webdriver.common.action_chains import ActionChains\n",
    "from selenium.webdriver.common.keys import Keys\n",
    "from selenium.webdriver.support.ui import Select\n",
    "import time\n",
    "from random import seed\n",
    "from random import randint\n",
    "import pandas as pd\n",
    "import re \n",
    "import shutil\n",
    "import os\n",
    "from builtins import any as b_any\n",
    "from os import listdir\n",
    "from os.path import isfile, join"
   ]
  },
  {
   "cell_type": "code",
   "execution_count": 16,
   "metadata": {},
   "outputs": [],
   "source": [
    "def rt(a=1, b=5):\n",
    "    return randint(a,b)\n",
    "\n",
    "def get_movie(titulo, driver_path=None, docker=True):\n",
    "    \n",
    "    ''' Given a movie title goes to its wikipedia page\n",
    "        and get the information from the table in the right '''\n",
    "    \n",
    "    timmer = rt()\n",
    "    print('Inicia timer de...{} segundos'.format(timmer))\n",
    "    time.sleep(timmer)\n",
    "    \n",
    "    # Google USA to force english results\n",
    "    url = 'https://www.google.com/?gl=us'\n",
    "    \n",
    "    # Firefox docker driver\n",
    "    if docker:\n",
    "        driver = webdriver.Remote(driver_path, DesiredCapabilities.FIREFOX)\n",
    "    # Firefox local driver\n",
    "    else:\n",
    "        driver = webdriver.Firefox(executable_path = driver_path)\n",
    "    \n",
    "    driver.get(url)\n",
    "    time.sleep(rt(5,6))\n",
    "    \n",
    "    u = driver.find_element_by_name('q')\n",
    "\n",
    "    \n",
    "    time.sleep(rt(3,4))\n",
    "    \n",
    "    titulo_busqueda = titulo + ' wikipedia' + ' movie' + ' english'\n",
    "    u.send_keys(titulo_busqueda)\n",
    "\n",
    "    time.sleep(rt(4,5))\n",
    "    \n",
    "    lucky_button = driver.find_element_by_xpath('/html/body/div/div[4]/form/div[2]/div[1]/div[3]/center/input[2]')\n",
    "    time.sleep(rt(3,4))\n",
    "    driver.execute_script(\"arguments[0].click();\", lucky_button)\n",
    "    time.sleep(rt(3,4))\n",
    "\n",
    "    table = driver.find_element_by_xpath((\"//table[@class='infobox vevent']\"))\n",
    "    data = table.text\n",
    "    driver.quit()\n",
    "    print('Lucky ', titulo)\n",
    "    return data\n"
   ]
  },
  {
   "cell_type": "code",
   "execution_count": 13,
   "metadata": {},
   "outputs": [],
   "source": [
    "\n",
    "def write_movie(table,movie_name,path):\n",
    "    \n",
    "    ''' Given a movie and its information \n",
    "        writes a .txt file '''\n",
    "    \n",
    "    movie_name = clean_movie_name(movie_name)\n",
    "    #Escribir txt\n",
    "    file_path = path+movie_name\n",
    "    file = open(\"{}.txt\".format(file_path),\"w\") \n",
    "    file.write(data)\n",
    "    file.close() \n",
    "\n",
    "def clean_movie_name(movie_name):\n",
    "    \n",
    "    ''' Given a movie title, removes special characters '''\n",
    "    \n",
    "    movie_name = movie_name.replace(\" \",\"\")\n",
    "    movie_name = movie_name.replace(\"’\",\"\")\n",
    "    movie_name = movie_name.replace(\"…\",\"\")\n",
    "    movie_name = movie_name.replace(\".\",\"\")\n",
    "    return movie_name\n",
    "\n",
    "\n",
    "def check_movie(movie_name,movie_list):\n",
    "    movie_name = clean_movie_name(movie_name)\n",
    "    movie_name = movie_name + \".txt\"\n",
    "    \n",
    "    if (movie_name not in movie_list):\n",
    "        return True\n",
    "    else:\n",
    "        return False"
   ]
  },
  {
   "cell_type": "code",
   "execution_count": 17,
   "metadata": {},
   "outputs": [
    {
     "name": "stdout",
     "output_type": "stream",
     "text": [
      "Inicia timer de...5 segundos\n",
      "Lucky  El Padrino\n",
      "Movie:  The Dead Don’t Die  already in the database\n",
      "Movie:  Ad Astra  already in the database\n",
      "Movie:  Joker  already in the database\n"
     ]
    }
   ],
   "source": [
    "movies_to_scrap = [ 'El Padrino',\n",
    "          'The Dead Don’t Die',\n",
    "          'Ad Astra',\n",
    "          # 'Cindy la Regia',\n",
    "          #'Ford vs Ferrari',\n",
    "          #'Once Upon a Time in…Hollywood'\n",
    "          # 'Parasite',\n",
    "          # 'Little Women',\n",
    "          # 'The Irishman',\n",
    "          # 'Marriage Story',\n",
    "          # 'The Lighthouse',\n",
    "          # 'Mission: Impossible – Fallout',\n",
    "          # 'Ready Player One',\n",
    "          'Joker'\n",
    "           ]\n",
    "\n",
    "# the path were the files are going to be saved. \n",
    "# Example: /home/ubuntu/moviefiles/\n",
    "\n",
    "onlyfiles = [f for f in listdir(mypath) if isfile(join(mypath, f))]\n",
    "\n",
    "\n",
    "for i in movies_to_scrap:\n",
    "    #First check if the movie is not in the folder\n",
    "    if check_movie(movie_name=i,movie_list=onlyfiles):\n",
    "        #Download the data\n",
    "        data = get_movie(titulo=i, docker=_docker_, driver_path=_driver_path_)\n",
    "        #Save data as txt\n",
    "        write_movie(table=data,movie_name=i,path=mypath)\n",
    "    else: \n",
    "        print(\"Movie: \",i,\" already in the database\")\n"
   ]
  }
 ],
 "metadata": {
  "kernelspec": {
   "display_name": "Python 3",
   "language": "python",
   "name": "python3"
  },
  "language_info": {
   "codemirror_mode": {
    "name": "ipython",
    "version": 3
   },
   "file_extension": ".py",
   "mimetype": "text/x-python",
   "name": "python",
   "nbconvert_exporter": "python",
   "pygments_lexer": "ipython3",
   "version": "3.8.1"
  }
 },
 "nbformat": 4,
 "nbformat_minor": 2
}
